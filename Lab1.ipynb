{
 "cells": [
  {
   "cell_type": "markdown",
   "id": "99072196-4806-4aab-a19e-88518100176d",
   "metadata": {
    "tags": []
   },
   "source": [
    "Sigmoid Function"
   ]
  },
  {
   "cell_type": "code",
   "execution_count": 1,
   "id": "4dcd1909-d598-4f48-9ccf-1056882f2b27",
   "metadata": {},
   "outputs": [],
   "source": [
    "import math\n",
    "\n",
    "def basic_sigmoid(x):\n",
    "    s = 1 / (1 + math.exp(-x))\n",
    "    \n",
    "    return s\n"
   ]
  },
  {
   "cell_type": "markdown",
   "id": "645da608-4b7a-47eb-a821-11cf592f3a36",
   "metadata": {},
   "source": [
    "Sigmoid with Numpy"
   ]
  },
  {
   "cell_type": "code",
   "execution_count": 1,
   "id": "4ccf3cde-c4e7-4a59-bbc0-cb4ca2ea65e1",
   "metadata": {},
   "outputs": [
    {
     "name": "stdout",
     "output_type": "stream",
     "text": [
      "[0.36787944 0.13533528 0.04978707]\n"
     ]
    }
   ],
   "source": [
    "import numpy as np\n",
    "x = np.array([1 , 2 ,3])\n",
    "print(np.exp(-x))"
   ]
  },
  {
   "cell_type": "code",
   "execution_count": 2,
   "id": "64db8463-0075-43c6-9ae4-a2f67ab85b84",
   "metadata": {},
   "outputs": [
    {
     "name": "stdout",
     "output_type": "stream",
     "text": [
      "[2 7 8]\n"
     ]
    }
   ],
   "source": [
    "y=np.array((1,6,7))\n",
    "print(y+1)"
   ]
  },
  {
   "cell_type": "code",
   "execution_count": 6,
   "id": "3bfe8acf-a483-4166-b86f-5321ee7b976a",
   "metadata": {},
   "outputs": [],
   "source": [
    "def sigmoid_np(arr):\n",
    "    return 1/(1+np.exp(-arr))"
   ]
  },
  {
   "cell_type": "code",
   "execution_count": 7,
   "id": "4d4fd656-096a-43b4-9bcf-e25870ddbd47",
   "metadata": {},
   "outputs": [
    {
     "data": {
      "text/plain": [
       "array([0.73105858, 0.88079708, 0.95257413])"
      ]
     },
     "execution_count": 7,
     "metadata": {},
     "output_type": "execute_result"
    }
   ],
   "source": [
    "sigmoid_np(x)\n"
   ]
  },
  {
   "cell_type": "markdown",
   "id": "6e843266-1412-4ea3-8095-12cfb63ed1a4",
   "metadata": {},
   "source": [
    "Gradient Function"
   ]
  },
  {
   "cell_type": "code",
   "execution_count": 8,
   "id": "d199a309-e564-4255-971f-5e4d6c4da79b",
   "metadata": {},
   "outputs": [],
   "source": [
    "def gradient(x):\n",
    "    return np_sigmoid(x)*(1-np_sigmoid(x))"
   ]
  },
  {
   "cell_type": "code",
   "execution_count": 9,
   "id": "ea18649b-28f1-47da-9515-8969c754f57e",
   "metadata": {},
   "outputs": [
    {
     "data": {
      "text/plain": [
       "array([0.19661193, 0.10499359, 0.04517666])"
      ]
     },
     "execution_count": 9,
     "metadata": {},
     "output_type": "execute_result"
    }
   ],
   "source": [
    "gradient(x)"
   ]
  },
  {
   "cell_type": "markdown",
   "id": "5a5e4d3b-727f-4f5a-8afc-754bdb64eea7",
   "metadata": {},
   "source": [
    "Reshape Image Function"
   ]
  },
  {
   "cell_type": "code",
   "execution_count": 10,
   "id": "39740f34-df13-4006-b4ef-ea239be3fceb",
   "metadata": {},
   "outputs": [
    {
     "name": "stdout",
     "output_type": "stream",
     "text": [
      "[[0.468534]\n",
      " [0.456467]\n",
      " [0.657683]\n",
      " [0.564675]\n",
      " [0.464534]\n",
      " [0.467654]\n",
      " [0.245232]\n",
      " [0.685984]\n",
      " [0.569804]\n",
      " [0.468534]\n",
      " [0.456467]\n",
      " [0.657683]\n",
      " [0.564675]\n",
      " [0.464534]\n",
      " [0.467654]\n",
      " [0.245232]\n",
      " [0.685984]\n",
      " [0.569804]\n",
      " [0.468534]\n",
      " [0.456467]\n",
      " [0.657683]\n",
      " [0.564675]\n",
      " [0.464534]\n",
      " [0.467654]\n",
      " [0.245232]\n",
      " [0.685984]\n",
      " [0.569804]]\n"
     ]
    }
   ],
   "source": [
    "def reshape_img(img):\n",
    "    return img.reshape(img.shape[0] * img.shape[1] * img.shape[2],1)\n",
    "\n",
    "image = np.array([[[0.468534, 0.456467, 0.657683],\n",
    "                   [0.564675, 0.464534, 0.467654],\n",
    "                   [0.245232, 0.685984, 0.569804]],\n",
    "                  \n",
    "                  [[0.468534, 0.456467, 0.657683],\n",
    "                   [0.564675, 0.464534, 0.467654],\n",
    "                   [0.245232, 0.685984, 0.569804]],\n",
    "                  \n",
    "                  [[0.468534, 0.456467, 0.657683],\n",
    "                   [0.564675, 0.464534, 0.467654],\n",
    "                   [0.245232, 0.685984, 0.569804]]])\n",
    "\n",
    "reshaped_img = reshape_img(image)\n",
    "print(reshaped_img)\n"
   ]
  },
  {
   "cell_type": "markdown",
   "id": "7e8bc167-4904-45a7-87ba-d7548f3eb9ee",
   "metadata": {},
   "source": [
    "Normalization Function:"
   ]
  },
  {
   "cell_type": "code",
   "execution_count": 11,
   "id": "f8987de6-10ca-4a4e-9ccb-843b91c4737e",
   "metadata": {},
   "outputs": [],
   "source": [
    "def normalized(x):\n",
    "    norm=np.linalg.norm(x,axis=1,keepdims=True)\n",
    "    return x/norm"
   ]
  },
  {
   "cell_type": "markdown",
   "id": "d131ddd9-50ed-4a53-9034-f7d23113bd31",
   "metadata": {},
   "source": [
    "Softmax Function"
   ]
  },
  {
   "cell_type": "code",
   "execution_count": 13,
   "id": "4ca9fecb-7e19-42e7-a1c0-42d6e9ffcf3d",
   "metadata": {},
   "outputs": [
    {
     "name": "stdout",
     "output_type": "stream",
     "text": [
      "[[0.04630344 0.12586581 0.34213873 0.9300295 ]\n",
      " [0.04630344 0.12586581 0.34213873 0.9300295 ]]\n"
     ]
    }
   ],
   "source": [
    "def softmax(x):\n",
    "    x=np.exp(x)\n",
    "    norm=np.linalg.norm(x,axis=1,keepdims=True)\n",
    "    return x/norm\n",
    "\n",
    "x=[[1,2,3,4],\n",
    "   [6,7,8,9]] \n",
    "\n",
    "print(softmax(x))\n",
    "  "
   ]
  },
  {
   "cell_type": "markdown",
   "id": "e8bf51ff-6f59-4718-bdb2-517f17e2c289",
   "metadata": {},
   "source": [
    "Dot Product and Timing"
   ]
  },
  {
   "cell_type": "code",
   "execution_count": 16,
   "id": "50aa9cf0-d921-45c2-893f-5570ec764682",
   "metadata": {},
   "outputs": [
    {
     "name": "stdout",
     "output_type": "stream",
     "text": [
      "447\n",
      "0.0\n"
     ]
    }
   ],
   "source": [
    "import time\n",
    "\n",
    "x = [1, 6, 3, 5, 2, 7, 5, 7, 8, 2, 9, 3, 9, 3, 9, 5, 1, 8]\n",
    "y = [3, 5, 2, 9, 6, 7, 2, 8, 5, 1, 9, 3, 0, 2, 4, 6, 8, 3]\n",
    "\n",
    "start_time = time.process_time()\n",
    "\n",
    "dot = 0\n",
    "for i in range(len(x)):\n",
    "    dot += x[i] * y[i]\n",
    "\n",
    "end_time = time.process_time()  # Record the end time here\n",
    "\n",
    "elapsed_time = 1000 * (end_time - start_time)\n",
    "\n",
    "print(dot)\n",
    "print(elapsed_time)\n"
   ]
  },
  {
   "cell_type": "code",
   "execution_count": null,
   "id": "afc5799c-f19d-4201-9bd5-1d0f4ca3a342",
   "metadata": {},
   "outputs": [],
   "source": []
  }
 ],
 "metadata": {
  "kernelspec": {
   "display_name": "Python 3 (ipykernel)",
   "language": "python",
   "name": "python3"
  },
  "language_info": {
   "codemirror_mode": {
    "name": "ipython",
    "version": 3
   },
   "file_extension": ".py",
   "mimetype": "text/x-python",
   "name": "python",
   "nbconvert_exporter": "python",
   "pygments_lexer": "ipython3",
   "version": "3.9.12"
  }
 },
 "nbformat": 4,
 "nbformat_minor": 5
}
