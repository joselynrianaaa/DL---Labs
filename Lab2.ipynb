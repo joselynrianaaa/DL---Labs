{
 "cells": [
  {
   "cell_type": "markdown",
   "id": "6030b406-322c-48f3-80e8-43e7652ac9c9",
   "metadata": {},
   "source": [
    "Implement L1 Loss Function"
   ]
  },
  {
   "cell_type": "code",
   "execution_count": 6,
   "id": "a193bce2-0a0a-4e40-bc91-96e01268cd1a",
   "metadata": {},
   "outputs": [],
   "source": [
    "import numpy as np\n",
    "\n",
    "def l1_loss(y_pred, y_true):\n",
    "    loss = np.mean(np.abs(y_pred - y_true))\n",
    "    return loss\n",
    "\n"
   ]
  },
  {
   "cell_type": "code",
   "execution_count": 8,
   "id": "ace1944d-4580-4fe4-9def-909e2a72fc9d",
   "metadata": {},
   "outputs": [
    {
     "name": "stdout",
     "output_type": "stream",
     "text": [
      "L1 Loss: 0.38\n"
     ]
    }
   ],
   "source": [
    "yhat = np.array([.9,0.2,0.1,.4,.9])\n",
    "y = np.array([1,0,1,1,1])\n",
    "print(\"L1 Loss:\", l1_loss(yhat, y))"
   ]
  },
  {
   "cell_type": "markdown",
   "id": "f2dc8a74-08ad-4c3f-853f-fc4617c594ed",
   "metadata": {},
   "source": [
    "Implement L2 Loss Function"
   ]
  },
  {
   "cell_type": "code",
   "execution_count": 11,
   "id": "58bfdbca-562d-47bf-96f6-c0f09f8e7433",
   "metadata": {},
   "outputs": [
    {
     "name": "stdout",
     "output_type": "stream",
     "text": [
      "L2 Loss: 0.24600000000000005\n"
     ]
    }
   ],
   "source": [
    "def l2_loss(y_pred, y_true):\n",
    "   \n",
    "    loss = np.mean((y_pred - y_true) ** 2)\n",
    "    return loss\n",
    "\n",
    "print(\"L2 Loss:\", l2_loss(yhat, y))"
   ]
  },
  {
   "cell_type": "code",
   "execution_count": null,
   "id": "37ec7f88-0b51-47bc-8e43-314f8a5fcaf2",
   "metadata": {},
   "outputs": [],
   "source": []
  }
 ],
 "metadata": {
  "kernelspec": {
   "display_name": "Python 3 (ipykernel)",
   "language": "python",
   "name": "python3"
  },
  "language_info": {
   "codemirror_mode": {
    "name": "ipython",
    "version": 3
   },
   "file_extension": ".py",
   "mimetype": "text/x-python",
   "name": "python",
   "nbconvert_exporter": "python",
   "pygments_lexer": "ipython3",
   "version": "3.9.12"
  }
 },
 "nbformat": 4,
 "nbformat_minor": 5
}
